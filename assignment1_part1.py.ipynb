{
 "cells": [
  {
   "cell_type": "code",
   "execution_count": 9,
   "metadata": {},
   "outputs": [],
   "source": [
    "if __name__ == \"__main__\":\n",
    "    \n",
    "    class ListDivideException(Exception):\n",
    "        pass\n",
    "\n",
    "    def listDivide(numbers,divide=2):\n",
    "        numList = []\n",
    "        for x in numbers:\n",
    "            if x % divide == 0:  #checks if number in list is divisible by 2\n",
    "                numList.append(x)\n",
    "        return len(numList)\n",
    "\n",
    "    def testListDivide():     #supposed to test listDivide\n",
    "        listDivide([1,2,3,4,5])\n",
    "        listDivide([2,4,6,8,10])\n",
    "        listDivide([30,54,63,98,100], divide=10)\n",
    "        listDivide([])\n",
    "        listDivide([1,2,3,4,5], 1)\n",
    "\n",
    "\n",
    "    \n",
    "        \n",
    "    \n",
    "        \n",
    "   \n",
    "    "
   ]
  },
  {
   "cell_type": "code",
   "execution_count": 6,
   "metadata": {},
   "outputs": [],
   "source": []
  }
 ],
 "metadata": {
  "kernelspec": {
   "display_name": "Python 3",
   "language": "python",
   "name": "python3"
  },
  "language_info": {
   "codemirror_mode": {
    "name": "ipython",
    "version": 3
   },
   "file_extension": ".py",
   "mimetype": "text/x-python",
   "name": "python",
   "nbconvert_exporter": "python",
   "pygments_lexer": "ipython3",
   "version": "3.8.3"
  }
 },
 "nbformat": 4,
 "nbformat_minor": 4
}
