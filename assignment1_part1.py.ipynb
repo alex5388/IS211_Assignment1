{
 "cells": [
  {
   "cell_type": "code",
   "execution_count": 423,
   "metadata": {},
   "outputs": [],
   "source": [
    "class ListDivideException(Exception):\n",
    "    pass\n",
    "\n",
    "def listDivide(numbers,divide=2):\n",
    "    numList = []\n",
    "    for x in numbers:\n",
    "        if x % divide == 0:  #checks if number in list is divisible by 2\n",
    "            numList.append(x)\n",
    "    return len(numList)\n",
    "\n",
    "def testListDivide():     #supposed to test listDivide\n",
    "    listDivide([1,2,3,4,5])\n",
    "    listDivide([2,4,6,8,10])\n",
    "    listDivide([30,54,63,98,100], divide=10)\n",
    "    listDivide([])\n",
    "    listDivide([1,2,3,4,5], 1)\n",
    "    \n",
    "    \n",
    "        \n",
    "    \n",
    "        \n",
    "   \n",
    "    "
   ]
  },
  {
   "cell_type": "code",
   "execution_count": 360,
   "metadata": {},
   "outputs": [],
   "source": [
    "testListDivide()"
   ]
  }
 ],
 "metadata": {
  "kernelspec": {
   "display_name": "Python 3",
   "language": "python",
   "name": "python3"
  },
  "language_info": {
   "codemirror_mode": {
    "name": "ipython",
    "version": 3
   },
   "file_extension": ".py",
   "mimetype": "text/x-python",
   "name": "python",
   "nbconvert_exporter": "python",
   "pygments_lexer": "ipython3",
   "version": "3.8.3"
  }
 },
 "nbformat": 4,
 "nbformat_minor": 4
}
